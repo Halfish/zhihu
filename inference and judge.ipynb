{
 "cells": [
  {
   "cell_type": "code",
   "execution_count": 1,
   "metadata": {
    "collapsed": false
   },
   "outputs": [
    {
     "name": "stdout",
     "output_type": "stream",
     "text": [
      "loading data...\n",
      "end of loading\n",
      "end of init\n",
      "<configure.GlobalVariable object at 0x7fb378366c10>\n"
     ]
    }
   ],
   "source": [
    "from configure import GlobalVariable\n",
    "gvar = GlobalVariable()\n",
    "print gvar"
   ]
  },
  {
   "cell_type": "code",
   "execution_count": 2,
   "metadata": {
    "collapsed": true
   },
   "outputs": [],
   "source": [
    "%reload_ext autoreload\n",
    "% autoreload 2"
   ]
  },
  {
   "cell_type": "code",
   "execution_count": 3,
   "metadata": {
    "collapsed": false
   },
   "outputs": [
    {
     "name": "stdout",
     "output_type": "stream",
     "text": [
      "{u'n_classes': 1999, u'max_qlen': 55, u'max_epoch': 100, u'learning_rate': 0.001, u'mlp_hidden_size': 1024, u'rnn_hidden_size': 300, u'batch_size': 200, u'split_rate': 0.9, u'emb_dim': 256, u'nothing': u'_', u'mode': 'inference', u'question_type': u'title', u'model_type': u'baseline', u'gpu': True, u'rnn_hidden_layers': 3}\n"
     ]
    }
   ],
   "source": [
    "from zutil.config import Config\n",
    "from data import QuestionDataset\n",
    "import torch\n",
    "\n",
    "model = torch.load('checkpoint.pt')['model']\n",
    "model.eval()\n",
    "\n",
    "# eval set\n",
    "config_eval = Config('parameter.json', mode='inference')\n",
    "dataset_eval = QuestionDataset(config_eval, gvar)\n",
    "\n",
    "print config_eval"
   ]
  },
  {
   "cell_type": "code",
   "execution_count": 13,
   "metadata": {
    "collapsed": false
   },
   "outputs": [
    {
     "name": "stdout",
     "output_type": "stream",
     "text": [
      "300\n",
      "600\n",
      "900\n"
     ]
    }
   ],
   "source": [
    "# get top5 results\n",
    "import numpy as np\n",
    "count = 0\n",
    "results = np.zeros((len(dataset_eval), 5))\n",
    "for questions, indices in dataset_eval.next_batch():\n",
    "    count += 1\n",
    "    if count % 300 == 0:\n",
    "        print count\n",
    "    output = model(questions)\n",
    "    output= output.cpu().data.topk(5)[1].numpy()\n",
    "    indices = indices.cpu().data.numpy().astype('int')\n",
    "    results[indices] = output\n",
    "results = results.astype('int')\n",
    "print results[0:10]"
   ]
  },
  {
   "cell_type": "code",
   "execution_count": 33,
   "metadata": {
    "collapsed": false
   },
   "outputs": [
    {
     "name": "stdout",
     "output_type": "stream",
     "text": [
      "217360\n",
      "110081\n",
      "166420\n",
      "182280\n",
      "194409\n"
     ]
    }
   ],
   "source": [
    "# write result to file\n",
    "with open('result.csv', 'w') as f:\n",
    "    count = 0\n",
    "    print results.shape[0]\n",
    "    for i in range(results.shape[0]):\n",
    "        answer = gvar.question_eval[i][0] + ',' \n",
    "        if results[i].any() == 0:\n",
    "            ids = [topic[0] for topic in gvar.topics[0:5]]\n",
    "            print i\n",
    "        else:\n",
    "            ids = [gvar.index2topic[topk] for topk in results[i]]\n",
    "        answer += ','.join(ids) + '\\n'\n",
    "        f.write(answer)"
   ]
  }
 ],
 "metadata": {
  "kernelspec": {
   "display_name": "Python 2",
   "language": "python",
   "name": "python2"
  },
  "language_info": {
   "codemirror_mode": {
    "name": "ipython",
    "version": 2
   },
   "file_extension": ".py",
   "mimetype": "text/x-python",
   "name": "python",
   "nbconvert_exporter": "python",
   "pygments_lexer": "ipython2",
   "version": "2.7.13"
  }
 },
 "nbformat": 4,
 "nbformat_minor": 2
}
